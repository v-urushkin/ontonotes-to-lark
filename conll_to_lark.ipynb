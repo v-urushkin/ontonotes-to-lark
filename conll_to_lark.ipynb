{
 "cells": [
  {
   "cell_type": "markdown",
   "id": "64eb0818",
   "metadata": {},
   "source": [
    "# Import libs"
   ]
  },
  {
   "cell_type": "code",
   "execution_count": 1,
   "id": "a63ad8b1",
   "metadata": {},
   "outputs": [
    {
     "name": "stderr",
     "output_type": "stream",
     "text": [
      "/home/victoru/docs/ontonotes-to-lark/.venv/lib/python3.12/site-packages/tqdm/auto.py:21: TqdmWarning: IProgress not found. Please update jupyter and ipywidgets. See https://ipywidgets.readthedocs.io/en/stable/user_install.html\n",
      "  from .autonotebook import tqdm as notebook_tqdm\n"
     ]
    }
   ],
   "source": [
    "import multiprocessing\n",
    "import pandas as pd\n",
    "\n",
    "from datasets import load_dataset, concatenate_datasets\n",
    "from nltk.tree import Tree\n",
    "from nltk.grammar import Nonterminal\n",
    "\n",
    "from typing import Dict, Optional, List\n",
    "\n",
    "from tqdm import tqdm\n",
    "\n",
    "from copy import deepcopy"
   ]
  },
  {
   "cell_type": "code",
   "execution_count": 2,
   "id": "f6119556",
   "metadata": {},
   "outputs": [],
   "source": [
    "pd.set_option('display.max_rows', 500)\n",
    "pd.set_option('display.max_columns', 500)"
   ]
  },
  {
   "cell_type": "markdown",
   "id": "3201d8be",
   "metadata": {},
   "source": [
    "# Load dataset"
   ]
  },
  {
   "cell_type": "code",
   "execution_count": 3,
   "id": "591a3832",
   "metadata": {},
   "outputs": [],
   "source": [
    "ontonotes = load_dataset('conll2012_ontonotesv5', 'english_v12', cache_dir='.cache')"
   ]
  },
  {
   "cell_type": "code",
   "execution_count": 4,
   "id": "6a19c70d",
   "metadata": {},
   "outputs": [
    {
     "data": {
      "text/plain": [
       "DatasetDict({\n",
       "    train: Dataset({\n",
       "        features: ['document_id', 'sentences'],\n",
       "        num_rows: 10539\n",
       "    })\n",
       "    validation: Dataset({\n",
       "        features: ['document_id', 'sentences'],\n",
       "        num_rows: 1370\n",
       "    })\n",
       "    test: Dataset({\n",
       "        features: ['document_id', 'sentences'],\n",
       "        num_rows: 1200\n",
       "    })\n",
       "})"
      ]
     },
     "execution_count": 4,
     "metadata": {},
     "output_type": "execute_result"
    }
   ],
   "source": [
    "ontonotes"
   ]
  },
  {
   "cell_type": "code",
   "execution_count": 5,
   "id": "39303e07",
   "metadata": {},
   "outputs": [
    {
     "data": {
      "text/plain": [
       "Dataset({\n",
       "    features: ['document_id', 'sentences'],\n",
       "    num_rows: 13109\n",
       "})"
      ]
     },
     "execution_count": 5,
     "metadata": {},
     "output_type": "execute_result"
    }
   ],
   "source": [
    "ontonotes = concatenate_datasets([ontonotes['train'], ontonotes['validation'], ontonotes['test']])\n",
    "ontonotes"
   ]
  },
  {
   "cell_type": "markdown",
   "id": "4f761ef5",
   "metadata": {},
   "source": [
    "# Preprocess trees"
   ]
  },
  {
   "cell_type": "markdown",
   "id": "3b51e5e6",
   "metadata": {},
   "source": [
    "## Extract trees"
   ]
  },
  {
   "cell_type": "code",
   "execution_count": 6,
   "id": "cf2f457f",
   "metadata": {},
   "outputs": [
    {
     "name": "stderr",
     "output_type": "stream",
     "text": [
      "100%|██████████| 13109/13109 [00:21<00:00, 599.76it/s] \n"
     ]
    }
   ],
   "source": [
    "ontn_sentc_tree = []\n",
    "\n",
    "for documents in tqdm(ontonotes):\n",
    "    for sentence in documents['sentences']:\n",
    "        if sentence['parse_tree'] is not None:\n",
    "            ontn_sentc_tree.append({'parse_tree': sentence['parse_tree'], 'words': sentence['words']})"
   ]
  },
  {
   "cell_type": "code",
   "execution_count": 7,
   "id": "82ea9875",
   "metadata": {},
   "outputs": [
    {
     "data": {
      "text/plain": [
       "137036"
      ]
     },
     "execution_count": 7,
     "metadata": {},
     "output_type": "execute_result"
    }
   ],
   "source": [
    "len(ontn_sentc_tree)"
   ]
  },
  {
   "cell_type": "markdown",
   "id": "52d14f38",
   "metadata": {},
   "source": [
    "## Find rare top cases"
   ]
  },
  {
   "cell_type": "code",
   "execution_count": 8,
   "id": "7cf1ad9b",
   "metadata": {},
   "outputs": [
    {
     "name": "stderr",
     "output_type": "stream",
     "text": [
      "100%|██████████| 137036/137036 [00:11<00:00, 11923.41it/s]\n"
     ]
    },
    {
     "data": {
      "text/plain": [
       "{'TOP -> SBARQ': 2238,\n",
       " 'TOP -> S': 115580,\n",
       " 'TOP -> NP': 3662,\n",
       " 'TOP -> SINV': 2560,\n",
       " 'TOP -> INTJ': 4711,\n",
       " 'TOP -> SQ': 2233,\n",
       " 'TOP -> X': 329,\n",
       " 'TOP -> SBAR': 486,\n",
       " 'TOP -> FRAG': 4065,\n",
       " 'TOP -> VP': 63,\n",
       " 'TOP -> ADVP': 229,\n",
       " 'TOP -> PP': 218,\n",
       " 'TOP -> ADJP': 212,\n",
       " 'TOP -> WHADVP': 2,\n",
       " 'TOP -> WHNP': 12,\n",
       " 'TOP -> UCP': 135,\n",
       " 'TOP -> META': 227,\n",
       " 'TOP -> S .': 7,\n",
       " 'TOP -> PRN': 31,\n",
       " 'TOP -> LST': 10,\n",
       " 'TOP -> .': 4,\n",
       " 'TOP -> ,': 1,\n",
       " 'TOP -> `` S': 15,\n",
       " 'TOP -> PP .': 1,\n",
       " 'TOP -> SINV .': 1,\n",
       " 'TOP -> SQ .': 1,\n",
       " 'TOP -> WHADJP': 3}"
      ]
     },
     "execution_count": 8,
     "metadata": {},
     "output_type": "execute_result"
    }
   ],
   "source": [
    "top_prods_dict = dict()\n",
    "for elem in tqdm(ontn_sentc_tree):\n",
    "    tree = Tree.fromstring(elem['parse_tree'])\n",
    "    top_prod = str(tree.productions()[0])\n",
    "    if top_prod in top_prods_dict.keys():\n",
    "        top_prods_dict[top_prod] += 1\n",
    "    else:\n",
    "        top_prods_dict[top_prod] = 1\n",
    "top_prods_dict"
   ]
  },
  {
   "cell_type": "code",
   "execution_count": 9,
   "id": "d19d5d99",
   "metadata": {},
   "outputs": [
    {
     "name": "stdout",
     "output_type": "stream",
     "text": [
      "['TOP -> S', 'TOP -> INTJ', 'TOP -> FRAG', 'TOP -> NP', 'TOP -> SINV', 'TOP -> SBARQ', 'TOP -> SQ', 'TOP -> SBAR']\n"
     ]
    }
   ],
   "source": [
    "top_prods = pd.Series(top_prods_dict, name='N').to_frame()\n",
    "top_prods['frac'] = top_prods['N'] / len(ontn_sentc_tree)\n",
    "top_prods = top_prods.sort_values('frac', ascending=False)\n",
    "mask = top_prods['frac'] > 0.003\n",
    "available_top_prods = top_prods[mask].index.to_list()\n",
    "print(available_top_prods)"
   ]
  },
  {
   "cell_type": "code",
   "execution_count": 10,
   "id": "22690424",
   "metadata": {},
   "outputs": [
    {
     "data": {
      "text/plain": [
       "['TOP -> S',\n",
       " 'TOP -> INTJ',\n",
       " 'TOP -> FRAG',\n",
       " 'TOP -> NP',\n",
       " 'TOP -> SINV',\n",
       " 'TOP -> SBARQ',\n",
       " 'TOP -> SQ',\n",
       " 'TOP -> SBAR']"
      ]
     },
     "execution_count": 10,
     "metadata": {},
     "output_type": "execute_result"
    }
   ],
   "source": [
    "available_top_prods"
   ]
  },
  {
   "cell_type": "markdown",
   "id": "0a0b19a5",
   "metadata": {},
   "source": [
    "## Delete rare top cases"
   ]
  },
  {
   "cell_type": "code",
   "execution_count": 11,
   "id": "3a8e0ade",
   "metadata": {},
   "outputs": [
    {
     "name": "stdout",
     "output_type": "stream",
     "text": [
      "137036\n"
     ]
    }
   ],
   "source": [
    "print(len(ontn_sentc_tree))"
   ]
  },
  {
   "cell_type": "code",
   "execution_count": 12,
   "id": "6ee16402",
   "metadata": {},
   "outputs": [
    {
     "name": "stderr",
     "output_type": "stream",
     "text": [
      "100%|██████████| 137036/137036 [00:11<00:00, 11941.07it/s]\n"
     ]
    }
   ],
   "source": [
    "ontn_sentc_tree_prc0 = []\n",
    "for elem in tqdm(ontn_sentc_tree):\n",
    "    tree = Tree.fromstring(elem['parse_tree'])\n",
    "    top_prod = str(tree.productions()[0])\n",
    "    if top_prod in available_top_prods:\n",
    "        ontn_sentc_tree_prc0.append(elem)"
   ]
  },
  {
   "cell_type": "code",
   "execution_count": 13,
   "id": "f3183359",
   "metadata": {},
   "outputs": [
    {
     "name": "stdout",
     "output_type": "stream",
     "text": [
      "135535\n"
     ]
    }
   ],
   "source": [
    "print(len(ontn_sentc_tree_prc0))"
   ]
  },
  {
   "cell_type": "markdown",
   "id": "db743c5c",
   "metadata": {},
   "source": [
    "## Extract rare DT cases"
   ]
  },
  {
   "cell_type": "code",
   "execution_count": 14,
   "id": "c1e8f0e3",
   "metadata": {},
   "outputs": [],
   "source": [
    "def extract_all_spec_substring(s: str, start_token: str, end_token: str = ')') -> List[Optional[str]]:\n",
    "    results = []\n",
    "    start = 0\n",
    "    while True:\n",
    "        start_pos = s.find(start_token, start)\n",
    "        if start_pos == -1:\n",
    "            break\n",
    "        end_pos = s.find(end_token, start_pos + len(start_token))\n",
    "        if end_pos != -1:\n",
    "            substring = s[start_pos: end_pos + 1]\n",
    "            results.append(substring)\n",
    "        start = start_pos + 1\n",
    "    return results"
   ]
  },
  {
   "cell_type": "code",
   "execution_count": 15,
   "id": "5d501ad2",
   "metadata": {},
   "outputs": [
    {
     "data": {
      "text/html": [
       "<div>\n",
       "<style scoped>\n",
       "    .dataframe tbody tr th:only-of-type {\n",
       "        vertical-align: middle;\n",
       "    }\n",
       "\n",
       "    .dataframe tbody tr th {\n",
       "        vertical-align: top;\n",
       "    }\n",
       "\n",
       "    .dataframe thead th {\n",
       "        text-align: right;\n",
       "    }\n",
       "</style>\n",
       "<table border=\"1\" class=\"dataframe\">\n",
       "  <thead>\n",
       "    <tr style=\"text-align: right;\">\n",
       "      <th></th>\n",
       "      <th>(DT the)</th>\n",
       "      <th>(DT a)</th>\n",
       "      <th>(DT The)</th>\n",
       "      <th>(DT this)</th>\n",
       "      <th>(DT an)</th>\n",
       "      <th>(DT that)</th>\n",
       "      <th>(DT some)</th>\n",
       "      <th>(DT all)</th>\n",
       "      <th>(DT these)</th>\n",
       "      <th>(DT This)</th>\n",
       "      <th>(DT those)</th>\n",
       "      <th>(DT no)</th>\n",
       "      <th>(DT any)</th>\n",
       "      <th>(DT A)</th>\n",
       "      <th>(DT That)</th>\n",
       "      <th>(DT another)</th>\n",
       "      <th>(DT each)</th>\n",
       "      <th>(DT every)</th>\n",
       "      <th>(DT both)</th>\n",
       "      <th>(DT Some)</th>\n",
       "      <th>(DT These)</th>\n",
       "      <th>(DT No)</th>\n",
       "      <th>(DT All)</th>\n",
       "      <th>(DT An)</th>\n",
       "      <th>(DT Those)</th>\n",
       "      <th>(DT Another)</th>\n",
       "      <th>(DT Both)</th>\n",
       "      <th>(DT Each)</th>\n",
       "      <th>(DT Every)</th>\n",
       "      <th>(DT either)</th>\n",
       "      <th>(DT Any)</th>\n",
       "      <th>(DT THE)</th>\n",
       "      <th>(DT neither)</th>\n",
       "      <th>(DT half)</th>\n",
       "      <th>(DT Neither)</th>\n",
       "      <th>(DT many)</th>\n",
       "      <th>(DT ALL)</th>\n",
       "      <th>(DT several)</th>\n",
       "      <th>(DT AN)</th>\n",
       "      <th>(DT such)</th>\n",
       "      <th>(DT Either)</th>\n",
       "      <th>(DT them)</th>\n",
       "      <th>(DT ANY)</th>\n",
       "      <th>(DT th-)</th>\n",
       "      <th>(DT tha-)</th>\n",
       "      <th>(DT he)</th>\n",
       "      <th>(DT NO)</th>\n",
       "      <th>(DT del)</th>\n",
       "      <th>(DT la)</th>\n",
       "      <th>(DT and)</th>\n",
       "      <th>(DT Many)</th>\n",
       "      <th>(DT new)</th>\n",
       "      <th>(DT yours)</th>\n",
       "      <th>(DT Anshe)</th>\n",
       "      <th>(DT No.)</th>\n",
       "      <th>(DT Half)</th>\n",
       "      <th>(DT nary)</th>\n",
       "      <th>(DT '99)</th>\n",
       "      <th>(DT {the?})</th>\n",
       "      <th>(DT al)</th>\n",
       "      <th>(DT {a})</th>\n",
       "      <th>(DT whatever)</th>\n",
       "      <th>(DT Not)</th>\n",
       "      <th>(DT most)</th>\n",
       "      <th>(DT production)</th>\n",
       "      <th>(DT 30,000)</th>\n",
       "      <th>(DT comparatively)</th>\n",
       "      <th>(DT THOSE)</th>\n",
       "      <th>(DT BOTH)</th>\n",
       "      <th>(DT 1/6)</th>\n",
       "      <th>(DT ten)</th>\n",
       "      <th>(DT a-)</th>\n",
       "      <th>(DT the-)</th>\n",
       "      <th>(DT an-)</th>\n",
       "      <th>(DT &amp;the)</th>\n",
       "      <th>(DT tho-)</th>\n",
       "      <th>(DT al-)</th>\n",
       "      <th>(DT ●The)</th>\n",
       "      <th>(DT 1/3)</th>\n",
       "      <th>(DT i)</th>\n",
       "      <th>(DT _that_)</th>\n",
       "      <th>(DT EVERY)</th>\n",
       "      <th>(DT thislast)</th>\n",
       "      <th>(DT outlaws)</th>\n",
       "      <th>(DT gold)</th>\n",
       "      <th>(DT le)</th>\n",
       "      <th>(DT anoth-)</th>\n",
       "      <th>(DT Thomas)</th>\n",
       "      <th>(DT China)</th>\n",
       "      <th>(DT to)</th>\n",
       "      <th>(DT email)</th>\n",
       "      <th>(DT Dis)</th>\n",
       "      <th>(DT Dat)</th>\n",
       "      <th>(DT THAT)</th>\n",
       "      <th>(DT now)</th>\n",
       "    </tr>\n",
       "  </thead>\n",
       "  <tbody>\n",
       "    <tr>\n",
       "      <th>N</th>\n",
       "      <td>120502</td>\n",
       "      <td>41633</td>\n",
       "      <td>14776</td>\n",
       "      <td>9709</td>\n",
       "      <td>6644</td>\n",
       "      <td>6116</td>\n",
       "      <td>3454</td>\n",
       "      <td>3115</td>\n",
       "      <td>2410</td>\n",
       "      <td>2314</td>\n",
       "      <td>2240</td>\n",
       "      <td>2229</td>\n",
       "      <td>1989</td>\n",
       "      <td>1856</td>\n",
       "      <td>1484</td>\n",
       "      <td>1090</td>\n",
       "      <td>974</td>\n",
       "      <td>891</td>\n",
       "      <td>750</td>\n",
       "      <td>642</td>\n",
       "      <td>600</td>\n",
       "      <td>291</td>\n",
       "      <td>279</td>\n",
       "      <td>275</td>\n",
       "      <td>223</td>\n",
       "      <td>153</td>\n",
       "      <td>149</td>\n",
       "      <td>122</td>\n",
       "      <td>117</td>\n",
       "      <td>64</td>\n",
       "      <td>59</td>\n",
       "      <td>42</td>\n",
       "      <td>38</td>\n",
       "      <td>37</td>\n",
       "      <td>23</td>\n",
       "      <td>22</td>\n",
       "      <td>8</td>\n",
       "      <td>8</td>\n",
       "      <td>8</td>\n",
       "      <td>7</td>\n",
       "      <td>7</td>\n",
       "      <td>6</td>\n",
       "      <td>3</td>\n",
       "      <td>3</td>\n",
       "      <td>3</td>\n",
       "      <td>3</td>\n",
       "      <td>3</td>\n",
       "      <td>2</td>\n",
       "      <td>2</td>\n",
       "      <td>2</td>\n",
       "      <td>2</td>\n",
       "      <td>2</td>\n",
       "      <td>1</td>\n",
       "      <td>1</td>\n",
       "      <td>1</td>\n",
       "      <td>1</td>\n",
       "      <td>1</td>\n",
       "      <td>1</td>\n",
       "      <td>1</td>\n",
       "      <td>1</td>\n",
       "      <td>1</td>\n",
       "      <td>1</td>\n",
       "      <td>1</td>\n",
       "      <td>1</td>\n",
       "      <td>1</td>\n",
       "      <td>1</td>\n",
       "      <td>1</td>\n",
       "      <td>1</td>\n",
       "      <td>1</td>\n",
       "      <td>1</td>\n",
       "      <td>1</td>\n",
       "      <td>1</td>\n",
       "      <td>1</td>\n",
       "      <td>1</td>\n",
       "      <td>1</td>\n",
       "      <td>1</td>\n",
       "      <td>1</td>\n",
       "      <td>1</td>\n",
       "      <td>1</td>\n",
       "      <td>1</td>\n",
       "      <td>1</td>\n",
       "      <td>1</td>\n",
       "      <td>1</td>\n",
       "      <td>1</td>\n",
       "      <td>1</td>\n",
       "      <td>1</td>\n",
       "      <td>1</td>\n",
       "      <td>1</td>\n",
       "      <td>1</td>\n",
       "      <td>1</td>\n",
       "      <td>1</td>\n",
       "      <td>1</td>\n",
       "      <td>1</td>\n",
       "      <td>1</td>\n",
       "      <td>1</td>\n",
       "    </tr>\n",
       "  </tbody>\n",
       "</table>\n",
       "</div>"
      ],
      "text/plain": [
       "   (DT the)  (DT a)  (DT The)  (DT this)  (DT an)  (DT that)  (DT some)  \\\n",
       "N    120502   41633     14776       9709     6644       6116       3454   \n",
       "\n",
       "   (DT all)  (DT these)  (DT This)  (DT those)  (DT no)  (DT any)  (DT A)  \\\n",
       "N      3115        2410       2314        2240     2229      1989    1856   \n",
       "\n",
       "   (DT That)  (DT another)  (DT each)  (DT every)  (DT both)  (DT Some)  \\\n",
       "N       1484          1090        974         891        750        642   \n",
       "\n",
       "   (DT These)  (DT No)  (DT All)  (DT An)  (DT Those)  (DT Another)  \\\n",
       "N         600      291       279      275         223           153   \n",
       "\n",
       "   (DT Both)  (DT Each)  (DT Every)  (DT either)  (DT Any)  (DT THE)  \\\n",
       "N        149        122         117           64        59        42   \n",
       "\n",
       "   (DT neither)  (DT half)  (DT Neither)  (DT many)  (DT ALL)  (DT several)  \\\n",
       "N            38         37            23         22         8             8   \n",
       "\n",
       "   (DT AN)  (DT such)  (DT Either)  (DT them)  (DT ANY)  (DT th-)  (DT tha-)  \\\n",
       "N        8          7            7          6         3         3          3   \n",
       "\n",
       "   (DT he)  (DT NO)  (DT del)  (DT la)  (DT and)  (DT Many)  (DT new)  \\\n",
       "N        3        3         2        2         2          2         2   \n",
       "\n",
       "   (DT yours)  (DT Anshe)  (DT No.)  (DT Half)  (DT nary)  (DT '99)  \\\n",
       "N           1           1         1          1          1         1   \n",
       "\n",
       "   (DT {the?})  (DT al)  (DT {a})  (DT whatever)  (DT Not)  (DT most)  \\\n",
       "N            1        1         1              1         1          1   \n",
       "\n",
       "   (DT production)  (DT 30,000)  (DT comparatively)  (DT THOSE)  (DT BOTH)  \\\n",
       "N                1            1                   1           1          1   \n",
       "\n",
       "   (DT 1/6)  (DT ten)  (DT a-)  (DT the-)  (DT an-)  (DT &the)  (DT tho-)  \\\n",
       "N         1         1        1          1         1          1          1   \n",
       "\n",
       "   (DT al-)  (DT ●The)  (DT 1/3)  (DT i)  (DT _that_)  (DT EVERY)  \\\n",
       "N         1          1         1       1            1           1   \n",
       "\n",
       "   (DT thislast)  (DT outlaws)  (DT gold)  (DT le)  (DT anoth-)  (DT Thomas)  \\\n",
       "N              1             1          1        1            1            1   \n",
       "\n",
       "   (DT China)  (DT to)  (DT email)  (DT Dis)  (DT Dat)  (DT THAT)  (DT now)  \n",
       "N           1        1           1         1         1          1         1  "
      ]
     },
     "metadata": {},
     "output_type": "display_data"
    }
   ],
   "source": [
    "dt_nt = dict()\n",
    "for i, sent in enumerate(ontn_sentc_tree_prc0):\n",
    "    substr = '(DT'\n",
    "    if substr in sent['parse_tree']:\n",
    "        extractions = extract_all_spec_substring(sent['parse_tree'], substr)\n",
    "        for extraction in extractions:\n",
    "            if extraction in dt_nt.keys():\n",
    "                dt_nt[extraction] += 1\n",
    "            else:\n",
    "                dt_nt[extraction] = 1\n",
    "dt_nt = pd.Series(dt_nt, name='N').to_frame()\n",
    "dt_nt = dt_nt.sort_values('N', ascending=False)\n",
    "display(dt_nt.T)\n",
    "del_dt = dt_nt[dt_nt['N'] <= 22].index.to_list()"
   ]
  },
  {
   "cell_type": "markdown",
   "id": "3096a6cb",
   "metadata": {},
   "source": [
    "## Delete rare DT cases"
   ]
  },
  {
   "cell_type": "code",
   "execution_count": 16,
   "id": "91e15f76",
   "metadata": {},
   "outputs": [
    {
     "data": {
      "text/plain": [
       "135535"
      ]
     },
     "execution_count": 16,
     "metadata": {},
     "output_type": "execute_result"
    }
   ],
   "source": [
    "len(ontn_sentc_tree_prc0)"
   ]
  },
  {
   "cell_type": "code",
   "execution_count": 17,
   "id": "9b8fe896",
   "metadata": {},
   "outputs": [],
   "source": [
    "def has_substring(input_str: str, substrings: List[str]) -> bool:\n",
    "    return any(s in input_str for s in substrings)"
   ]
  },
  {
   "cell_type": "code",
   "execution_count": 18,
   "id": "1deeef8b",
   "metadata": {},
   "outputs": [],
   "source": [
    "ontn_sentc_tree_prc1 = []\n",
    "for i, sent in enumerate(ontn_sentc_tree_prc0):\n",
    "    if not has_substring(sent['parse_tree'], del_dt):\n",
    "        ontn_sentc_tree_prc1.append(sent)"
   ]
  },
  {
   "cell_type": "code",
   "execution_count": 19,
   "id": "cfbb56e4",
   "metadata": {},
   "outputs": [
    {
     "data": {
      "text/plain": [
       "135404"
      ]
     },
     "execution_count": 19,
     "metadata": {},
     "output_type": "execute_result"
    }
   ],
   "source": [
    "len(ontn_sentc_tree_prc1)"
   ]
  },
  {
   "cell_type": "markdown",
   "id": "cf014e08",
   "metadata": {},
   "source": [
    "## Extract rare Punctuation"
   ]
  },
  {
   "cell_type": "code",
   "execution_count": 20,
   "id": "c4b7f8a4",
   "metadata": {},
   "outputs": [
    {
     "data": {
      "text/html": [
       "<div>\n",
       "<style scoped>\n",
       "    .dataframe tbody tr th:only-of-type {\n",
       "        vertical-align: middle;\n",
       "    }\n",
       "\n",
       "    .dataframe tbody tr th {\n",
       "        vertical-align: top;\n",
       "    }\n",
       "\n",
       "    .dataframe thead th {\n",
       "        text-align: right;\n",
       "    }\n",
       "</style>\n",
       "<table border=\"1\" class=\"dataframe\">\n",
       "  <thead>\n",
       "    <tr style=\"text-align: right;\">\n",
       "      <th></th>\n",
       "      <th>(: :)</th>\n",
       "      <th>(: --)</th>\n",
       "      <th>(: ;)</th>\n",
       "      <th>(: -)</th>\n",
       "      <th>(: ...)</th>\n",
       "      <th>(: /)</th>\n",
       "      <th>(: ')</th>\n",
       "      <th>(: ,)</th>\n",
       "      <th>(: ---)</th>\n",
       "      <th>(: !)</th>\n",
       "      <th>(: ：)</th>\n",
       "      <th>(: ------)</th>\n",
       "    </tr>\n",
       "  </thead>\n",
       "  <tbody>\n",
       "    <tr>\n",
       "      <th>N</th>\n",
       "      <td>3271</td>\n",
       "      <td>3271</td>\n",
       "      <td>2012</td>\n",
       "      <td>532</td>\n",
       "      <td>289</td>\n",
       "      <td>36</td>\n",
       "      <td>5</td>\n",
       "      <td>2</td>\n",
       "      <td>2</td>\n",
       "      <td>1</td>\n",
       "      <td>1</td>\n",
       "      <td>1</td>\n",
       "    </tr>\n",
       "  </tbody>\n",
       "</table>\n",
       "</div>"
      ],
      "text/plain": [
       "   (: :)  (: --)  (: ;)  (: -)  (: ...)  (: /)  (: ')  (: ,)  (: ---)  (: !)  \\\n",
       "N   3271    3271   2012    532      289     36      5      2        2      1   \n",
       "\n",
       "   (: ：)  (: ------)  \n",
       "N      1           1  "
      ]
     },
     "metadata": {},
     "output_type": "display_data"
    },
    {
     "data": {
      "text/plain": [
       "['(: ...)',\n",
       " '(: /)',\n",
       " \"(: ')\",\n",
       " '(: ,)',\n",
       " '(: ---)',\n",
       " '(: !)',\n",
       " '(: ：)',\n",
       " '(: ------)']"
      ]
     },
     "execution_count": 20,
     "metadata": {},
     "output_type": "execute_result"
    }
   ],
   "source": [
    "pn_nt = dict()\n",
    "for i, sent in enumerate(ontn_sentc_tree_prc1):\n",
    "    substr = '(:'\n",
    "    if substr in sent['parse_tree']:\n",
    "        extractions = extract_all_spec_substring(sent['parse_tree'], substr)\n",
    "        for extraction in extractions:\n",
    "            if extraction in pn_nt.keys():\n",
    "                pn_nt[extraction] += 1\n",
    "            else:\n",
    "                pn_nt[extraction] = 1\n",
    "pn_nt = pd.Series(pn_nt, name='N').to_frame()\n",
    "pn_nt = pn_nt.sort_values('N', ascending=False)\n",
    "display(pn_nt.head(60).T)\n",
    "del_pnct = pn_nt[pn_nt['N'] <= 289].index.to_list()\n",
    "del_pnct"
   ]
  },
  {
   "cell_type": "markdown",
   "id": "233fcf49",
   "metadata": {},
   "source": [
    "## Delete rare punctuation"
   ]
  },
  {
   "cell_type": "code",
   "execution_count": 21,
   "id": "43d452e2",
   "metadata": {},
   "outputs": [
    {
     "data": {
      "text/plain": [
       "135404"
      ]
     },
     "execution_count": 21,
     "metadata": {},
     "output_type": "execute_result"
    }
   ],
   "source": [
    "len(ontn_sentc_tree_prc1)"
   ]
  },
  {
   "cell_type": "code",
   "execution_count": 22,
   "id": "67c569d9",
   "metadata": {},
   "outputs": [],
   "source": [
    "ontn_sentc_tree_prc2 = []\n",
    "for i, sent in enumerate(ontn_sentc_tree_prc1):\n",
    "    if not has_substring(sent['parse_tree'], del_pnct):\n",
    "        ontn_sentc_tree_prc2.append(sent)"
   ]
  },
  {
   "cell_type": "code",
   "execution_count": 23,
   "id": "56cc295d",
   "metadata": {},
   "outputs": [
    {
     "data": {
      "text/plain": [
       "135096"
      ]
     },
     "execution_count": 23,
     "metadata": {},
     "output_type": "execute_result"
    }
   ],
   "source": [
    "len(ontn_sentc_tree_prc2)"
   ]
  },
  {
   "cell_type": "markdown",
   "id": "db7d5078",
   "metadata": {},
   "source": [
    "## Extract rare comma"
   ]
  },
  {
   "cell_type": "code",
   "execution_count": 24,
   "id": "a533c34b",
   "metadata": {},
   "outputs": [
    {
     "data": {
      "text/html": [
       "<div>\n",
       "<style scoped>\n",
       "    .dataframe tbody tr th:only-of-type {\n",
       "        vertical-align: middle;\n",
       "    }\n",
       "\n",
       "    .dataframe tbody tr th {\n",
       "        vertical-align: top;\n",
       "    }\n",
       "\n",
       "    .dataframe thead th {\n",
       "        text-align: right;\n",
       "    }\n",
       "</style>\n",
       "<table border=\"1\" class=\"dataframe\">\n",
       "  <thead>\n",
       "    <tr style=\"text-align: right;\">\n",
       "      <th></th>\n",
       "      <th>(, ,)</th>\n",
       "      <th>(, ;)</th>\n",
       "      <th>(, -)</th>\n",
       "      <th>(, .)</th>\n",
       "      <th>(, /)</th>\n",
       "      <th>(, ?)</th>\n",
       "      <th>(, !)</th>\n",
       "      <th>(, --)</th>\n",
       "      <th>(, :)</th>\n",
       "      <th>(, ...)</th>\n",
       "      <th>(, ---)</th>\n",
       "      <th>(, ??)</th>\n",
       "      <th>(, \")</th>\n",
       "      <th>(, television)</th>\n",
       "      <th>(, section)</th>\n",
       "      <th>(, 2)</th>\n",
       "      <th>(, ....)</th>\n",
       "      <th>(, ..)</th>\n",
       "      <th>(, !!!!)</th>\n",
       "      <th>(, Wa)</th>\n",
       "      <th>(, !!)</th>\n",
       "      <th>(, ?!)</th>\n",
       "    </tr>\n",
       "  </thead>\n",
       "  <tbody>\n",
       "    <tr>\n",
       "      <th>N</th>\n",
       "      <td>112168</td>\n",
       "      <td>316</td>\n",
       "      <td>292</td>\n",
       "      <td>151</td>\n",
       "      <td>82</td>\n",
       "      <td>63</td>\n",
       "      <td>33</td>\n",
       "      <td>19</td>\n",
       "      <td>14</td>\n",
       "      <td>7</td>\n",
       "      <td>4</td>\n",
       "      <td>3</td>\n",
       "      <td>2</td>\n",
       "      <td>1</td>\n",
       "      <td>1</td>\n",
       "      <td>1</td>\n",
       "      <td>1</td>\n",
       "      <td>1</td>\n",
       "      <td>1</td>\n",
       "      <td>1</td>\n",
       "      <td>1</td>\n",
       "      <td>1</td>\n",
       "    </tr>\n",
       "  </tbody>\n",
       "</table>\n",
       "</div>"
      ],
      "text/plain": [
       "    (, ,)  (, ;)  (, -)  (, .)  (, /)  (, ?)  (, !)  (, --)  (, :)  (, ...)  \\\n",
       "N  112168    316    292    151     82     63     33      19     14        7   \n",
       "\n",
       "   (, ---)  (, ??)  (, \")  (, television)  (, section)  (, 2)  (, ....)  \\\n",
       "N        4       3      2               1            1      1         1   \n",
       "\n",
       "   (, ..)  (, !!!!)  (, Wa)  (, !!)  (, ?!)  \n",
       "N       1         1       1       1       1  "
      ]
     },
     "metadata": {},
     "output_type": "display_data"
    },
    {
     "name": "stdout",
     "output_type": "stream",
     "text": [
      "['(, ;)', '(, -)', '(, .)', '(, /)', '(, ?)', '(, !)', '(, --)', '(, :)', '(, ...)', '(, ---)', '(, ??)', '(, \")', '(, television)', '(, section)', '(, 2)', '(, ....)', '(, ..)', '(, !!!!)', '(, Wa)', '(, !!)', '(, ?!)']\n"
     ]
    }
   ],
   "source": [
    "comma_nt = dict()\n",
    "for i, sent in enumerate(ontn_sentc_tree_prc2):\n",
    "    substr = '(,'\n",
    "    if substr in sent['parse_tree']:\n",
    "        extractions = extract_all_spec_substring(sent['parse_tree'], substr)\n",
    "        for extraction in extractions:\n",
    "            if extraction in comma_nt.keys():\n",
    "                comma_nt[extraction] += 1\n",
    "            else:\n",
    "                comma_nt[extraction] = 1\n",
    "comma_nt = pd.Series(comma_nt, name='N').to_frame()\n",
    "comma_nt = comma_nt.sort_values('N', ascending=False)\n",
    "display(comma_nt.head(60).T)\n",
    "del_comma = comma_nt[comma_nt['N'] <= 316].index.to_list()\n",
    "print(del_comma)"
   ]
  },
  {
   "cell_type": "markdown",
   "id": "cb8220bf",
   "metadata": {},
   "source": [
    "## Delete rare comma"
   ]
  },
  {
   "cell_type": "code",
   "execution_count": 25,
   "id": "38f48d8c",
   "metadata": {},
   "outputs": [
    {
     "data": {
      "text/plain": [
       "135096"
      ]
     },
     "execution_count": 25,
     "metadata": {},
     "output_type": "execute_result"
    }
   ],
   "source": [
    "len(ontn_sentc_tree_prc2)"
   ]
  },
  {
   "cell_type": "code",
   "execution_count": 26,
   "id": "5d4def66",
   "metadata": {},
   "outputs": [],
   "source": [
    "ontn_sentc_tree_prc3 = []\n",
    "for i, sent in enumerate(ontn_sentc_tree_prc2):\n",
    "    if not has_substring(sent['parse_tree'], del_comma):\n",
    "        ontn_sentc_tree_prc3.append(sent)"
   ]
  },
  {
   "cell_type": "code",
   "execution_count": 27,
   "id": "d3e8cff3",
   "metadata": {},
   "outputs": [
    {
     "data": {
      "text/plain": [
       "134405"
      ]
     },
     "execution_count": 27,
     "metadata": {},
     "output_type": "execute_result"
    }
   ],
   "source": [
    "len(ontn_sentc_tree_prc3)"
   ]
  },
  {
   "cell_type": "markdown",
   "id": "83232613",
   "metadata": {},
   "source": [
    "## Extract rare dots"
   ]
  },
  {
   "cell_type": "code",
   "execution_count": 28,
   "id": "52f5a24f",
   "metadata": {},
   "outputs": [
    {
     "data": {
      "text/html": [
       "<div>\n",
       "<style scoped>\n",
       "    .dataframe tbody tr th:only-of-type {\n",
       "        vertical-align: middle;\n",
       "    }\n",
       "\n",
       "    .dataframe tbody tr th {\n",
       "        vertical-align: top;\n",
       "    }\n",
       "\n",
       "    .dataframe thead th {\n",
       "        text-align: right;\n",
       "    }\n",
       "</style>\n",
       "<table border=\"1\" class=\"dataframe\">\n",
       "  <thead>\n",
       "    <tr style=\"text-align: right;\">\n",
       "      <th></th>\n",
       "      <th>(. .)</th>\n",
       "      <th>(. /.)</th>\n",
       "      <th>(. ?)</th>\n",
       "      <th>(. !)</th>\n",
       "      <th>(. /?)</th>\n",
       "      <th>(. /-)</th>\n",
       "      <th>(. ...)</th>\n",
       "      <th>(. --)</th>\n",
       "      <th>(. ..)</th>\n",
       "      <th>(. ,)</th>\n",
       "      <th>(. :)</th>\n",
       "      <th>(. !!)</th>\n",
       "      <th>(. -)</th>\n",
       "      <th>(. ;)</th>\n",
       "      <th>(. ....)</th>\n",
       "      <th>(. !!!)</th>\n",
       "      <th>(. ???)</th>\n",
       "      <th>(. ??)</th>\n",
       "      <th>(. .....)</th>\n",
       "      <th>(. ?!)</th>\n",
       "      <th>(. !!!!)</th>\n",
       "      <th>(. !?)</th>\n",
       "      <th>(. !.)</th>\n",
       "      <th>(. ..!)</th>\n",
       "      <th>(. ......)</th>\n",
       "      <th>(. \")</th>\n",
       "      <th>(. .......)</th>\n",
       "      <th>(. ;.)</th>\n",
       "      <th>(. ..?)</th>\n",
       "      <th>(. ...!)</th>\n",
       "      <th>(. !!?)</th>\n",
       "      <th>(. !!??)</th>\n",
       "      <th>(. ?!!...)</th>\n",
       "      <th>(. /)</th>\n",
       "      <th>(. [E_S)</th>\n",
       "      <th>(. &lt;E_S)</th>\n",
       "      <th>(. ,,)</th>\n",
       "      <th>(. ..!!)</th>\n",
       "      <th>(. 0.)</th>\n",
       "      <th>(. !!!!!!!!!!!!!!!!)</th>\n",
       "      <th>(. !!.)</th>\n",
       "      <th>(. ?...)</th>\n",
       "      <th>(. ........)</th>\n",
       "      <th>(. ?!!!)</th>\n",
       "      <th>(. ?..)</th>\n",
       "      <th>(. ......................)</th>\n",
       "      <th>(. !!!!.)</th>\n",
       "      <th>(. ....?)</th>\n",
       "      <th>(. ?@@@...)</th>\n",
       "      <th>(. ..!!.)</th>\n",
       "      <th>(. !*)</th>\n",
       "      <th>(. ..!*)</th>\n",
       "      <th>(. ?!!)</th>\n",
       "      <th>(. .?)</th>\n",
       "      <th>(. .-)</th>\n",
       "      <th>(. ??.)</th>\n",
       "      <th>(. ?!.)</th>\n",
       "      <th>(. :.)</th>\n",
       "      <th>(. !!!!!)</th>\n",
       "      <th>(. !!!!!!!!)</th>\n",
       "    </tr>\n",
       "  </thead>\n",
       "  <tbody>\n",
       "    <tr>\n",
       "      <th>N</th>\n",
       "      <td>105935</td>\n",
       "      <td>9257</td>\n",
       "      <td>4798</td>\n",
       "      <td>1605</td>\n",
       "      <td>993</td>\n",
       "      <td>289</td>\n",
       "      <td>184</td>\n",
       "      <td>168</td>\n",
       "      <td>144</td>\n",
       "      <td>99</td>\n",
       "      <td>32</td>\n",
       "      <td>31</td>\n",
       "      <td>30</td>\n",
       "      <td>27</td>\n",
       "      <td>24</td>\n",
       "      <td>11</td>\n",
       "      <td>9</td>\n",
       "      <td>8</td>\n",
       "      <td>8</td>\n",
       "      <td>5</td>\n",
       "      <td>5</td>\n",
       "      <td>5</td>\n",
       "      <td>4</td>\n",
       "      <td>4</td>\n",
       "      <td>4</td>\n",
       "      <td>4</td>\n",
       "      <td>3</td>\n",
       "      <td>3</td>\n",
       "      <td>3</td>\n",
       "      <td>3</td>\n",
       "      <td>3</td>\n",
       "      <td>2</td>\n",
       "      <td>1</td>\n",
       "      <td>1</td>\n",
       "      <td>1</td>\n",
       "      <td>1</td>\n",
       "      <td>1</td>\n",
       "      <td>1</td>\n",
       "      <td>1</td>\n",
       "      <td>1</td>\n",
       "      <td>1</td>\n",
       "      <td>1</td>\n",
       "      <td>1</td>\n",
       "      <td>1</td>\n",
       "      <td>1</td>\n",
       "      <td>1</td>\n",
       "      <td>1</td>\n",
       "      <td>1</td>\n",
       "      <td>1</td>\n",
       "      <td>1</td>\n",
       "      <td>1</td>\n",
       "      <td>1</td>\n",
       "      <td>1</td>\n",
       "      <td>1</td>\n",
       "      <td>1</td>\n",
       "      <td>1</td>\n",
       "      <td>1</td>\n",
       "      <td>1</td>\n",
       "      <td>1</td>\n",
       "      <td>1</td>\n",
       "    </tr>\n",
       "  </tbody>\n",
       "</table>\n",
       "</div>"
      ],
      "text/plain": [
       "    (. .)  (. /.)  (. ?)  (. !)  (. /?)  (. /-)  (. ...)  (. --)  (. ..)  \\\n",
       "N  105935    9257   4798   1605     993     289      184     168     144   \n",
       "\n",
       "   (. ,)  (. :)  (. !!)  (. -)  (. ;)  (. ....)  (. !!!)  (. ???)  (. ??)  \\\n",
       "N     99     32      31     30     27        24       11        9       8   \n",
       "\n",
       "   (. .....)  (. ?!)  (. !!!!)  (. !?)  (. !.)  (. ..!)  (. ......)  (. \")  \\\n",
       "N          8       5         5       5       4        4           4      4   \n",
       "\n",
       "   (. .......)  (. ;.)  (. ..?)  (. ...!)  (. !!?)  (. !!??)  (. ?!!...)  \\\n",
       "N            3       3        3         3        3         2           1   \n",
       "\n",
       "   (. /)  (. [E_S)  (. <E_S)  (. ,,)  (. ..!!)  (. 0.)  (. !!!!!!!!!!!!!!!!)  \\\n",
       "N      1         1         1       1         1       1                     1   \n",
       "\n",
       "   (. !!.)  (. ?...)  (. ........)  (. ?!!!)  (. ?..)  \\\n",
       "N        1         1             1         1        1   \n",
       "\n",
       "   (. ......................)  (. !!!!.)  (. ....?)  (. ?@@@...)  (. ..!!.)  \\\n",
       "N                           1          1          1            1          1   \n",
       "\n",
       "   (. !*)  (. ..!*)  (. ?!!)  (. .?)  (. .-)  (. ??.)  (. ?!.)  (. :.)  \\\n",
       "N       1         1        1       1       1        1        1       1   \n",
       "\n",
       "   (. !!!!!)  (. !!!!!!!!)  \n",
       "N          1             1  "
      ]
     },
     "metadata": {},
     "output_type": "display_data"
    },
    {
     "name": "stdout",
     "output_type": "stream",
     "text": [
      "['(. --)', '(. ..)', '(. ,)', '(. :)', '(. !!)', '(. -)', '(. ;)', '(. ....)', '(. !!!)', '(. ???)', '(. ??)', '(. .....)', '(. ?!)', '(. !!!!)', '(. !?)', '(. !.)', '(. ..!)', '(. ......)', '(. \")', '(. .......)', '(. ;.)', '(. ..?)', '(. ...!)', '(. !!?)', '(. !!??)', '(. ?!!...)', '(. /)', '(. [E_S)', '(. <E_S)', '(. ,,)', '(. ..!!)', '(. 0.)', '(. !!!!!!!!!!!!!!!!)', '(. !!.)', '(. ?...)', '(. ........)', '(. ?!!!)', '(. ?..)', '(. ......................)', '(. !!!!.)', '(. ....?)', '(. ?@@@...)', '(. ..!!.)', '(. !*)', '(. ..!*)', '(. ?!!)', '(. .?)', '(. .-)', '(. ??.)', '(. ?!.)', '(. :.)', '(. !!!!!)', '(. !!!!!!!!)', '(. /-)']\n"
     ]
    }
   ],
   "source": [
    "dots_nt = dict()\n",
    "for i, sent in enumerate(ontn_sentc_tree_prc3):\n",
    "    substr = '(.'\n",
    "    if substr in sent['parse_tree']:\n",
    "        extractions = extract_all_spec_substring(sent['parse_tree'], substr)\n",
    "        for extraction in extractions:\n",
    "            if extraction in dots_nt.keys():\n",
    "                dots_nt[extraction] += 1\n",
    "            else:\n",
    "                dots_nt[extraction] = 1\n",
    "dots_nt = pd.Series(dots_nt, name='N').to_frame()\n",
    "dots_nt = dots_nt.sort_values('N', ascending=False)\n",
    "display(dots_nt.T)\n",
    "del_dots = dots_nt[dots_nt['N'] <= 168].index.to_list()\n",
    "del_dots.append('(. /-)')\n",
    "print(del_dots)"
   ]
  },
  {
   "cell_type": "markdown",
   "id": "ebd4384b",
   "metadata": {},
   "source": [
    "## Delete rare dots"
   ]
  },
  {
   "cell_type": "code",
   "execution_count": 29,
   "id": "5c777309",
   "metadata": {},
   "outputs": [
    {
     "data": {
      "text/plain": [
       "134405"
      ]
     },
     "execution_count": 29,
     "metadata": {},
     "output_type": "execute_result"
    }
   ],
   "source": [
    "len(ontn_sentc_tree_prc3)"
   ]
  },
  {
   "cell_type": "code",
   "execution_count": 30,
   "id": "036f96e4",
   "metadata": {},
   "outputs": [],
   "source": [
    "ontn_sentc_tree_prc4 = []\n",
    "for i, sent in enumerate(ontn_sentc_tree_prc3):\n",
    "    if not has_substring(sent['parse_tree'], del_dots):\n",
    "        ontn_sentc_tree_prc4.append(sent)"
   ]
  },
  {
   "cell_type": "code",
   "execution_count": 31,
   "id": "a7a0fb52",
   "metadata": {},
   "outputs": [
    {
     "data": {
      "text/plain": [
       "133449"
      ]
     },
     "execution_count": 31,
     "metadata": {},
     "output_type": "execute_result"
    }
   ],
   "source": [
    "len(ontn_sentc_tree_prc4)"
   ]
  },
  {
   "cell_type": "markdown",
   "id": "01db6bbe",
   "metadata": {},
   "source": [
    "## Extract opening quotation marks"
   ]
  },
  {
   "cell_type": "code",
   "execution_count": 32,
   "id": "17ff71d6",
   "metadata": {},
   "outputs": [
    {
     "data": {
      "text/html": [
       "<div>\n",
       "<style scoped>\n",
       "    .dataframe tbody tr th:only-of-type {\n",
       "        vertical-align: middle;\n",
       "    }\n",
       "\n",
       "    .dataframe tbody tr th {\n",
       "        vertical-align: top;\n",
       "    }\n",
       "\n",
       "    .dataframe thead th {\n",
       "        text-align: right;\n",
       "    }\n",
       "</style>\n",
       "<table border=\"1\" class=\"dataframe\">\n",
       "  <thead>\n",
       "    <tr style=\"text-align: right;\">\n",
       "      <th></th>\n",
       "      <th>(`` ``)</th>\n",
       "      <th>(`` \")</th>\n",
       "      <th>(`` ')</th>\n",
       "      <th>(`` `)</th>\n",
       "      <th>(`` '')</th>\n",
       "    </tr>\n",
       "  </thead>\n",
       "  <tbody>\n",
       "    <tr>\n",
       "      <th>N</th>\n",
       "      <td>11073</td>\n",
       "      <td>3448</td>\n",
       "      <td>371</td>\n",
       "      <td>102</td>\n",
       "      <td>9</td>\n",
       "    </tr>\n",
       "  </tbody>\n",
       "</table>\n",
       "</div>"
      ],
      "text/plain": [
       "   (`` ``)  (`` \")  (`` ')  (`` `)  (`` '')\n",
       "N    11073    3448     371     102        9"
      ]
     },
     "metadata": {},
     "output_type": "display_data"
    },
    {
     "name": "stdout",
     "output_type": "stream",
     "text": [
      "[\"(`` '')\"]\n"
     ]
    }
   ],
   "source": [
    "oqm_nt = dict()\n",
    "for i, sent in enumerate(ontn_sentc_tree_prc4):\n",
    "    substr = '(``'\n",
    "    if substr in sent['parse_tree']:\n",
    "        extractions = extract_all_spec_substring(sent['parse_tree'], substr)\n",
    "        for extraction in extractions:\n",
    "            if extraction in oqm_nt.keys():\n",
    "                oqm_nt[extraction] += 1\n",
    "            else:\n",
    "                oqm_nt[extraction] = 1\n",
    "oqm_nt = pd.Series(oqm_nt, name='N').to_frame()\n",
    "oqm_nt = oqm_nt.sort_values('N', ascending=False)\n",
    "display(oqm_nt.T)\n",
    "del_oqm= oqm_nt[oqm_nt['N'] <= 10].index.to_list()\n",
    "print(del_oqm)"
   ]
  },
  {
   "cell_type": "markdown",
   "id": "b4c5eb1c",
   "metadata": {},
   "source": [
    "## Delete opening quotation marks"
   ]
  },
  {
   "cell_type": "code",
   "execution_count": 33,
   "id": "5dcb7697",
   "metadata": {},
   "outputs": [
    {
     "data": {
      "text/plain": [
       "133449"
      ]
     },
     "execution_count": 33,
     "metadata": {},
     "output_type": "execute_result"
    }
   ],
   "source": [
    "len(ontn_sentc_tree_prc4)"
   ]
  },
  {
   "cell_type": "code",
   "execution_count": 34,
   "id": "51136d65",
   "metadata": {},
   "outputs": [],
   "source": [
    "ontn_sentc_tree_prc5 = []\n",
    "for i, sent in enumerate(ontn_sentc_tree_prc4):\n",
    "    if not has_substring(sent['parse_tree'], del_oqm):\n",
    "        ontn_sentc_tree_prc5.append(sent)"
   ]
  },
  {
   "cell_type": "code",
   "execution_count": 35,
   "id": "bc7188ac",
   "metadata": {},
   "outputs": [
    {
     "data": {
      "text/plain": [
       "133440"
      ]
     },
     "execution_count": 35,
     "metadata": {},
     "output_type": "execute_result"
    }
   ],
   "source": [
    "len(ontn_sentc_tree_prc5)"
   ]
  },
  {
   "cell_type": "markdown",
   "id": "6f266eb6",
   "metadata": {},
   "source": [
    "## Extract end quotation marks"
   ]
  },
  {
   "cell_type": "code",
   "execution_count": 36,
   "id": "6822d853",
   "metadata": {},
   "outputs": [
    {
     "data": {
      "text/html": [
       "<div>\n",
       "<style scoped>\n",
       "    .dataframe tbody tr th:only-of-type {\n",
       "        vertical-align: middle;\n",
       "    }\n",
       "\n",
       "    .dataframe tbody tr th {\n",
       "        vertical-align: top;\n",
       "    }\n",
       "\n",
       "    .dataframe thead th {\n",
       "        text-align: right;\n",
       "    }\n",
       "</style>\n",
       "<table border=\"1\" class=\"dataframe\">\n",
       "  <thead>\n",
       "    <tr style=\"text-align: right;\">\n",
       "      <th></th>\n",
       "      <th>('' '')</th>\n",
       "      <th>('' \")</th>\n",
       "      <th>('' ')</th>\n",
       "      <th>('' `)</th>\n",
       "      <th>('' One)</th>\n",
       "      <th>('' ,)</th>\n",
       "      <th>('' .)</th>\n",
       "      <th>('' O)</th>\n",
       "      <th>('' \"\")</th>\n",
       "    </tr>\n",
       "  </thead>\n",
       "  <tbody>\n",
       "    <tr>\n",
       "      <th>N</th>\n",
       "      <td>10430</td>\n",
       "      <td>3493</td>\n",
       "      <td>1371</td>\n",
       "      <td>16</td>\n",
       "      <td>1</td>\n",
       "      <td>1</td>\n",
       "      <td>1</td>\n",
       "      <td>1</td>\n",
       "      <td>1</td>\n",
       "    </tr>\n",
       "  </tbody>\n",
       "</table>\n",
       "</div>"
      ],
      "text/plain": [
       "   ('' '')  ('' \")  ('' ')  ('' `)  ('' One)  ('' ,)  ('' .)  ('' O)  ('' \"\")\n",
       "N    10430    3493    1371      16         1       1       1       1        1"
      ]
     },
     "metadata": {},
     "output_type": "display_data"
    },
    {
     "name": "stdout",
     "output_type": "stream",
     "text": [
      "[\"('' One)\", \"('' ,)\", \"('' .)\", \"('' O)\", '(\\'\\' \"\")']\n"
     ]
    }
   ],
   "source": [
    "eqm_nt = dict()\n",
    "for i, sent in enumerate(ontn_sentc_tree_prc5):\n",
    "    substr = \"(''\"\n",
    "    if substr in sent['parse_tree']:\n",
    "        extractions = extract_all_spec_substring(sent['parse_tree'], substr)\n",
    "        for extraction in extractions:\n",
    "            if extraction in eqm_nt.keys():\n",
    "                eqm_nt[extraction] += 1\n",
    "            else:\n",
    "                eqm_nt[extraction] = 1\n",
    "eqm_nt = pd.Series(eqm_nt, name='N').to_frame()\n",
    "eqm_nt = eqm_nt.sort_values('N', ascending=False)\n",
    "display(eqm_nt.T)\n",
    "del_eqm= eqm_nt[eqm_nt['N'] <= 15].index.to_list()\n",
    "print(del_eqm)"
   ]
  },
  {
   "cell_type": "markdown",
   "id": "733d6c61",
   "metadata": {},
   "source": [
    "## Delete end quotation marks"
   ]
  },
  {
   "cell_type": "code",
   "execution_count": 37,
   "id": "8cfed10b",
   "metadata": {},
   "outputs": [
    {
     "data": {
      "text/plain": [
       "133440"
      ]
     },
     "execution_count": 37,
     "metadata": {},
     "output_type": "execute_result"
    }
   ],
   "source": [
    "len(ontn_sentc_tree_prc5)"
   ]
  },
  {
   "cell_type": "code",
   "execution_count": 38,
   "id": "271f8edd",
   "metadata": {},
   "outputs": [],
   "source": [
    "ontn_sentc_tree_prc6 = []\n",
    "for i, sent in enumerate(ontn_sentc_tree_prc5):\n",
    "    if not has_substring(sent['parse_tree'], del_eqm):\n",
    "        ontn_sentc_tree_prc6.append(sent)"
   ]
  },
  {
   "cell_type": "code",
   "execution_count": 39,
   "id": "3cc09fff",
   "metadata": {},
   "outputs": [
    {
     "data": {
      "text/plain": [
       "133435"
      ]
     },
     "execution_count": 39,
     "metadata": {},
     "output_type": "execute_result"
    }
   ],
   "source": [
    "len(ontn_sentc_tree_prc6)"
   ]
  },
  {
   "cell_type": "markdown",
   "id": "73214735",
   "metadata": {},
   "source": [
    "## Extract all symbols"
   ]
  },
  {
   "cell_type": "code",
   "execution_count": 40,
   "id": "e773b013",
   "metadata": {},
   "outputs": [],
   "source": [
    "all_liters = set()\n",
    "for i, sent in enumerate(ontn_sentc_tree_prc6):\n",
    "    words = ''.join(sent['words'])\n",
    "    all_liters.update(words)"
   ]
  },
  {
   "cell_type": "code",
   "execution_count": 41,
   "id": "2ed9b130",
   "metadata": {},
   "outputs": [
    {
     "name": "stdout",
     "output_type": "stream",
     "text": [
      "{'\\\\', '6', '●', 'e', '[', 'の', '_', '【', '&', '￥', 'd', '.', 'I', 'O', '（', 'W', ':', 'V', '˙', 'r', 'B', 'a', 'M', 'R', 'Y', '?', '%', 'P', '1', '4', '·', '8', '9', 'o', 'J', '-', \"'\", '!', 'F', 'y', '】', 't', ',', '*', 'X', '}', 'D', 'j', 'G', '□', 'v', 'w', 'c', 'l', 'z', 'h', 'K', '0', '2', '’', 'q', 'L', '>', '/', '^', '`', 'p', 'Ì', '→', '＊', 'n', '<', 'ِ', '#', 'Q', 'g', '3', '7', 's', '+', 'C', 'T', 'm', 'N', '$', 'S', 'x', 'à', 'ö', 'U', ';', '@', 'E', '=', 'u', 'f', 'A', ']', '~', 'b', 'k', '{', '\"', '■', '・', 'ò', 'Û', '5', 'H', 'Z', 'i', '）'}\n"
     ]
    }
   ],
   "source": [
    "print(all_liters)"
   ]
  },
  {
   "cell_type": "code",
   "execution_count": 42,
   "id": "6634ec03",
   "metadata": {},
   "outputs": [],
   "source": [
    "error_symbs = [\n",
    "    '□', '■', 'の', '【', '】', '●', 'ö', '{', '}', '＊',\n",
    "    '\\\\', '<', '>', 'ò', '˙', 'Ì', '・', '→', 'Û', '·',\n",
    "    '_', '￥', '’', '^', '’', '------', '---', '@'\n",
    "]"
   ]
  },
  {
   "cell_type": "markdown",
   "id": "b52d05f6",
   "metadata": {},
   "source": [
    "## Remove trees with error symbols"
   ]
  },
  {
   "cell_type": "code",
   "execution_count": 43,
   "id": "810b8392",
   "metadata": {},
   "outputs": [
    {
     "name": "stdout",
     "output_type": "stream",
     "text": [
      "133435\n"
     ]
    }
   ],
   "source": [
    "print(len(ontn_sentc_tree_prc6))"
   ]
  },
  {
   "cell_type": "code",
   "execution_count": 44,
   "id": "d2604e40",
   "metadata": {},
   "outputs": [],
   "source": [
    "ontn_sentc_tree_prc7 = []\n",
    "for i, sent in enumerate(ontn_sentc_tree_prc6):\n",
    "    if not has_substring(sent['parse_tree'], error_symbs):\n",
    "        ontn_sentc_tree_prc7.append(sent)"
   ]
  },
  {
   "cell_type": "code",
   "execution_count": 45,
   "id": "0d74d3f9",
   "metadata": {},
   "outputs": [
    {
     "name": "stdout",
     "output_type": "stream",
     "text": [
      "133231\n"
     ]
    }
   ],
   "source": [
    "print(len(ontn_sentc_tree_prc7))"
   ]
  },
  {
   "cell_type": "markdown",
   "id": "8abe9e69",
   "metadata": {},
   "source": [
    "## Extract NN + link"
   ]
  },
  {
   "cell_type": "code",
   "execution_count": 46,
   "id": "41f1d6ed",
   "metadata": {},
   "outputs": [
    {
     "data": {
      "text/html": [
       "<div>\n",
       "<style scoped>\n",
       "    .dataframe tbody tr th:only-of-type {\n",
       "        vertical-align: middle;\n",
       "    }\n",
       "\n",
       "    .dataframe tbody tr th {\n",
       "        vertical-align: top;\n",
       "    }\n",
       "\n",
       "    .dataframe thead th {\n",
       "        text-align: right;\n",
       "    }\n",
       "</style>\n",
       "<table border=\"1\" class=\"dataframe\">\n",
       "  <thead>\n",
       "    <tr style=\"text-align: right;\">\n",
       "      <th></th>\n",
       "      <th>(NN http://www.qin.com.tw)</th>\n",
       "      <th>(NN http://www.bali.tpc.gov.tw/)</th>\n",
       "      <th>(NN http://www.tamsui.gov.tw/)</th>\n",
       "    </tr>\n",
       "  </thead>\n",
       "  <tbody>\n",
       "    <tr>\n",
       "      <th>N</th>\n",
       "      <td>1</td>\n",
       "      <td>1</td>\n",
       "      <td>1</td>\n",
       "    </tr>\n",
       "  </tbody>\n",
       "</table>\n",
       "</div>"
      ],
      "text/plain": [
       "   (NN http://www.qin.com.tw)  (NN http://www.bali.tpc.gov.tw/)  \\\n",
       "N                           1                                 1   \n",
       "\n",
       "   (NN http://www.tamsui.gov.tw/)  \n",
       "N                               1  "
      ]
     },
     "metadata": {},
     "output_type": "display_data"
    },
    {
     "data": {
      "text/html": [
       "<div>\n",
       "<style scoped>\n",
       "    .dataframe tbody tr th:only-of-type {\n",
       "        vertical-align: middle;\n",
       "    }\n",
       "\n",
       "    .dataframe tbody tr th {\n",
       "        vertical-align: top;\n",
       "    }\n",
       "\n",
       "    .dataframe thead th {\n",
       "        text-align: right;\n",
       "    }\n",
       "</style>\n",
       "<table border=\"1\" class=\"dataframe\">\n",
       "  <thead>\n",
       "    <tr style=\"text-align: right;\">\n",
       "      <th></th>\n",
       "      <th>(NN www.Career.com)</th>\n",
       "      <th>(NN www.alfalaq.com)</th>\n",
       "      <th>(NN www.120zy.com)</th>\n",
       "      <th>(NN www.taconet.com.tw/cstudio/)</th>\n",
       "    </tr>\n",
       "  </thead>\n",
       "  <tbody>\n",
       "    <tr>\n",
       "      <th>N</th>\n",
       "      <td>1</td>\n",
       "      <td>1</td>\n",
       "      <td>1</td>\n",
       "      <td>1</td>\n",
       "    </tr>\n",
       "  </tbody>\n",
       "</table>\n",
       "</div>"
      ],
      "text/plain": [
       "   (NN www.Career.com)  (NN www.alfalaq.com)  (NN www.120zy.com)  \\\n",
       "N                    1                     1                   1   \n",
       "\n",
       "   (NN www.taconet.com.tw/cstudio/)  \n",
       "N                                 1  "
      ]
     },
     "metadata": {},
     "output_type": "display_data"
    },
    {
     "name": "stdout",
     "output_type": "stream",
     "text": [
      "['(NN http://www.qin.com.tw)', '(NN http://www.bali.tpc.gov.tw/)', '(NN http://www.tamsui.gov.tw/)', '(NN www.Career.com)', '(NN www.alfalaq.com)', '(NN www.120zy.com)', '(NN www.taconet.com.tw/cstudio/)']\n"
     ]
    }
   ],
   "source": [
    "nnlink_nt = dict()\n",
    "for i, sent in enumerate(ontn_sentc_tree_prc7):\n",
    "    substr = \"(NN http\"\n",
    "    if substr in sent['parse_tree']:\n",
    "        extractions = extract_all_spec_substring(sent['parse_tree'], substr)\n",
    "        for extraction in extractions:\n",
    "            if extraction in nnlink_nt.keys():\n",
    "                nnlink_nt[extraction] += 1\n",
    "            else:\n",
    "                nnlink_nt[extraction] = 1\n",
    "nnlink_nt = pd.Series(nnlink_nt, name='N').to_frame()\n",
    "nnlink_nt = nnlink_nt.sort_values('N', ascending=False)\n",
    "display(nnlink_nt.T)\n",
    "del_nnlink_nt = nnlink_nt[nnlink_nt['N'] <= 15].index.to_list()\n",
    "\n",
    "nnlink_nt = dict()\n",
    "for i, sent in enumerate(ontn_sentc_tree_prc7):\n",
    "    substr = \"(NN www.\"\n",
    "    if substr in sent['parse_tree']:\n",
    "        extractions = extract_all_spec_substring(sent['parse_tree'], substr)\n",
    "        for extraction in extractions:\n",
    "            if extraction in nnlink_nt.keys():\n",
    "                nnlink_nt[extraction] += 1\n",
    "            else:\n",
    "                nnlink_nt[extraction] = 1\n",
    "\n",
    "nnlink_nt = pd.Series(nnlink_nt, name='N').to_frame()\n",
    "nnlink_nt = nnlink_nt.sort_values('N', ascending=False)\n",
    "display(nnlink_nt.T)\n",
    "\n",
    "del_nnlink_nt += nnlink_nt[nnlink_nt['N'] <= 15].index.to_list()\n",
    "\n",
    "print(del_nnlink_nt)"
   ]
  },
  {
   "cell_type": "markdown",
   "id": "5898339c",
   "metadata": {},
   "source": [
    "## Delete NN + link"
   ]
  },
  {
   "cell_type": "code",
   "execution_count": 47,
   "id": "80af77d4",
   "metadata": {},
   "outputs": [
    {
     "data": {
      "text/plain": [
       "133231"
      ]
     },
     "execution_count": 47,
     "metadata": {},
     "output_type": "execute_result"
    }
   ],
   "source": [
    "len(ontn_sentc_tree_prc7)"
   ]
  },
  {
   "cell_type": "code",
   "execution_count": 48,
   "id": "26b95d2e",
   "metadata": {},
   "outputs": [],
   "source": [
    "ontn_sentc_tree_prc8 = []\n",
    "for i, sent in enumerate(ontn_sentc_tree_prc7):\n",
    "    if not has_substring(sent['parse_tree'], del_nnlink_nt):\n",
    "        ontn_sentc_tree_prc8.append(sent)"
   ]
  },
  {
   "cell_type": "code",
   "execution_count": 49,
   "id": "3403b797",
   "metadata": {},
   "outputs": [
    {
     "data": {
      "text/plain": [
       "133224"
      ]
     },
     "execution_count": 49,
     "metadata": {},
     "output_type": "execute_result"
    }
   ],
   "source": [
    "len(ontn_sentc_tree_prc8)"
   ]
  },
  {
   "cell_type": "markdown",
   "id": "183ade95",
   "metadata": {},
   "source": [
    "## Extract rare cases with -LRB- / -RRB-"
   ]
  },
  {
   "cell_type": "code",
   "execution_count": 50,
   "id": "9fb6eefe",
   "metadata": {},
   "outputs": [
    {
     "data": {
      "text/html": [
       "<div>\n",
       "<style scoped>\n",
       "    .dataframe tbody tr th:only-of-type {\n",
       "        vertical-align: middle;\n",
       "    }\n",
       "\n",
       "    .dataframe tbody tr th {\n",
       "        vertical-align: top;\n",
       "    }\n",
       "\n",
       "    .dataframe thead th {\n",
       "        text-align: right;\n",
       "    }\n",
       "</style>\n",
       "<table border=\"1\" class=\"dataframe\">\n",
       "  <thead>\n",
       "    <tr style=\"text-align: right;\">\n",
       "      <th></th>\n",
       "      <th>(-RRB- -RRB-)</th>\n",
       "      <th>(-LRB- -LRB-)</th>\n",
       "      <th>(-RRB- -RCB-)</th>\n",
       "      <th>(-LRB- -LCB-)</th>\n",
       "      <th>(-RRB- -RSB-)</th>\n",
       "      <th>(-LRB- -LSB-)</th>\n",
       "      <th>(-LRB- [)</th>\n",
       "      <th>(-RRB- ])</th>\n",
       "      <th>(-LRB- -)</th>\n",
       "      <th>(-RRB- -)</th>\n",
       "      <th>(-LRB- -LRB)</th>\n",
       "      <th>(-RRB- -LRB-)</th>\n",
       "      <th>(-RRB- -RRB)</th>\n",
       "    </tr>\n",
       "  </thead>\n",
       "  <tbody>\n",
       "    <tr>\n",
       "      <th>N</th>\n",
       "      <td>2817</td>\n",
       "      <td>2777</td>\n",
       "      <td>181</td>\n",
       "      <td>178</td>\n",
       "      <td>52</td>\n",
       "      <td>48</td>\n",
       "      <td>9</td>\n",
       "      <td>9</td>\n",
       "      <td>1</td>\n",
       "      <td>1</td>\n",
       "      <td>1</td>\n",
       "      <td>1</td>\n",
       "      <td>1</td>\n",
       "    </tr>\n",
       "  </tbody>\n",
       "</table>\n",
       "</div>"
      ],
      "text/plain": [
       "   (-RRB- -RRB-)  (-LRB- -LRB-)  (-RRB- -RCB-)  (-LRB- -LCB-)  (-RRB- -RSB-)  \\\n",
       "N           2817           2777            181            178             52   \n",
       "\n",
       "   (-LRB- -LSB-)  (-LRB- [)  (-RRB- ])  (-LRB- -)  (-RRB- -)  (-LRB- -LRB)  \\\n",
       "N             48          9          9          1          1             1   \n",
       "\n",
       "   (-RRB- -LRB-)  (-RRB- -RRB)  \n",
       "N              1             1  "
      ]
     },
     "metadata": {},
     "output_type": "display_data"
    },
    {
     "name": "stdout",
     "output_type": "stream",
     "text": [
      "['(-LRB- [)', '(-RRB- ])', '(-LRB- -)', '(-RRB- -)', '(-LRB- -LRB)', '(-RRB- -LRB-)', '(-RRB- -RRB)']\n"
     ]
    }
   ],
   "source": [
    "lrb_nt = dict()\n",
    "for i, sent in enumerate(ontn_sentc_tree_prc8):\n",
    "    substr = \"(-\"\n",
    "    if substr in sent['parse_tree']:\n",
    "        extractions = extract_all_spec_substring(sent['parse_tree'], substr)\n",
    "        for extraction in extractions:\n",
    "            if extraction in lrb_nt.keys():\n",
    "                lrb_nt[extraction] += 1\n",
    "            else:\n",
    "                lrb_nt[extraction] = 1\n",
    "lrb_nt = pd.Series(lrb_nt, name='N').to_frame()\n",
    "lrb_nt = lrb_nt.sort_values('N', ascending=False)\n",
    "display(lrb_nt.T)\n",
    "del_lrb_nt = lrb_nt[lrb_nt['N'] <= 9].index.to_list()\n",
    "print(del_lrb_nt)"
   ]
  },
  {
   "cell_type": "markdown",
   "id": "748f6c4e",
   "metadata": {},
   "source": [
    "## Delete rare cases with -LRB- / -RRB-"
   ]
  },
  {
   "cell_type": "code",
   "execution_count": 51,
   "id": "96d612c5",
   "metadata": {},
   "outputs": [
    {
     "data": {
      "text/plain": [
       "133224"
      ]
     },
     "execution_count": 51,
     "metadata": {},
     "output_type": "execute_result"
    }
   ],
   "source": [
    "len(ontn_sentc_tree_prc8)"
   ]
  },
  {
   "cell_type": "code",
   "execution_count": 52,
   "id": "903271b5",
   "metadata": {},
   "outputs": [],
   "source": [
    "ontn_sentc_tree_prc9 = []\n",
    "for i, sent in enumerate(ontn_sentc_tree_prc8):\n",
    "    if not has_substring(sent['parse_tree'], del_lrb_nt):\n",
    "        ontn_sentc_tree_prc9.append(sent)"
   ]
  },
  {
   "cell_type": "code",
   "execution_count": 53,
   "id": "c0fd3bb4",
   "metadata": {},
   "outputs": [
    {
     "data": {
      "text/plain": [
       "133213"
      ]
     },
     "execution_count": 53,
     "metadata": {},
     "output_type": "execute_result"
    }
   ],
   "source": [
    "len(ontn_sentc_tree_prc9)"
   ]
  },
  {
   "cell_type": "markdown",
   "id": "f913f90e",
   "metadata": {},
   "source": [
    "## Extract rare cases with PRP&"
   ]
  },
  {
   "cell_type": "code",
   "execution_count": 54,
   "id": "6ab0e0e9",
   "metadata": {},
   "outputs": [
    {
     "data": {
      "text/html": [
       "<div>\n",
       "<style scoped>\n",
       "    .dataframe tbody tr th:only-of-type {\n",
       "        vertical-align: middle;\n",
       "    }\n",
       "\n",
       "    .dataframe tbody tr th {\n",
       "        vertical-align: top;\n",
       "    }\n",
       "\n",
       "    .dataframe thead th {\n",
       "        text-align: right;\n",
       "    }\n",
       "</style>\n",
       "<table border=\"1\" class=\"dataframe\">\n",
       "  <thead>\n",
       "    <tr style=\"text-align: right;\">\n",
       "      <th></th>\n",
       "      <th>(PRP$ his)</th>\n",
       "      <th>(PRP$ their)</th>\n",
       "      <th>(PRP$ its)</th>\n",
       "      <th>(PRP$ your)</th>\n",
       "      <th>(PRP$ my)</th>\n",
       "      <th>(PRP$ our)</th>\n",
       "      <th>(PRP$ her)</th>\n",
       "      <th>(PRP$ His)</th>\n",
       "      <th>(PRP$ My)</th>\n",
       "      <th>(PRP$ Your)</th>\n",
       "      <th>(PRP$ Our)</th>\n",
       "      <th>(PRP$ Their)</th>\n",
       "      <th>(PRP$ Its)</th>\n",
       "      <th>(PRP$ Her)</th>\n",
       "      <th>(PRP$ yours)</th>\n",
       "      <th>(PRP$ ours)</th>\n",
       "      <th>(PRP$ it's)</th>\n",
       "      <th>(PRP$ thy)</th>\n",
       "      <th>(PRP$ mine)</th>\n",
       "      <th>(PRP$ YOUR)</th>\n",
       "      <th>(PRP$ HIS)</th>\n",
       "      <th>(PRP$ thier)</th>\n",
       "      <th>(PRP$ there)</th>\n",
       "      <th>(PRP$ you)</th>\n",
       "      <th>(PRP$ yer)</th>\n",
       "      <th>(PRP$ his/her)</th>\n",
       "      <th>(PRP$ it)</th>\n",
       "      <th>(PRP$ you're)</th>\n",
       "      <th>(PRP$ +her)</th>\n",
       "      <th>(PRP$ h)</th>\n",
       "      <th>(PRP$ hr)</th>\n",
       "      <th>(PRP$ UAV)</th>\n",
       "      <th>(PRP$ ones)</th>\n",
       "    </tr>\n",
       "  </thead>\n",
       "  <tbody>\n",
       "    <tr>\n",
       "      <th>N</th>\n",
       "      <td>6768</td>\n",
       "      <td>5315</td>\n",
       "      <td>4600</td>\n",
       "      <td>2988</td>\n",
       "      <td>2590</td>\n",
       "      <td>2137</td>\n",
       "      <td>1482</td>\n",
       "      <td>450</td>\n",
       "      <td>417</td>\n",
       "      <td>237</td>\n",
       "      <td>231</td>\n",
       "      <td>192</td>\n",
       "      <td>133</td>\n",
       "      <td>125</td>\n",
       "      <td>17</td>\n",
       "      <td>7</td>\n",
       "      <td>4</td>\n",
       "      <td>3</td>\n",
       "      <td>3</td>\n",
       "      <td>2</td>\n",
       "      <td>2</td>\n",
       "      <td>2</td>\n",
       "      <td>2</td>\n",
       "      <td>2</td>\n",
       "      <td>2</td>\n",
       "      <td>1</td>\n",
       "      <td>1</td>\n",
       "      <td>1</td>\n",
       "      <td>1</td>\n",
       "      <td>1</td>\n",
       "      <td>1</td>\n",
       "      <td>1</td>\n",
       "      <td>1</td>\n",
       "    </tr>\n",
       "  </tbody>\n",
       "</table>\n",
       "</div>"
      ],
      "text/plain": [
       "   (PRP$ his)  (PRP$ their)  (PRP$ its)  (PRP$ your)  (PRP$ my)  (PRP$ our)  \\\n",
       "N        6768          5315        4600         2988       2590        2137   \n",
       "\n",
       "   (PRP$ her)  (PRP$ His)  (PRP$ My)  (PRP$ Your)  (PRP$ Our)  (PRP$ Their)  \\\n",
       "N        1482         450        417          237         231           192   \n",
       "\n",
       "   (PRP$ Its)  (PRP$ Her)  (PRP$ yours)  (PRP$ ours)  (PRP$ it's)  (PRP$ thy)  \\\n",
       "N         133         125            17            7            4           3   \n",
       "\n",
       "   (PRP$ mine)  (PRP$ YOUR)  (PRP$ HIS)  (PRP$ thier)  (PRP$ there)  \\\n",
       "N            3            2           2             2             2   \n",
       "\n",
       "   (PRP$ you)  (PRP$ yer)  (PRP$ his/her)  (PRP$ it)  (PRP$ you're)  \\\n",
       "N           2           2               1          1              1   \n",
       "\n",
       "   (PRP$ +her)  (PRP$ h)  (PRP$ hr)  (PRP$ UAV)  (PRP$ ones)  \n",
       "N            1         1          1           1            1  "
      ]
     },
     "metadata": {},
     "output_type": "display_data"
    },
    {
     "name": "stdout",
     "output_type": "stream",
     "text": [
      "['(PRP$ his/her)', '(PRP$ it)', \"(PRP$ you're)\", '(PRP$ +her)', '(PRP$ h)', '(PRP$ hr)', '(PRP$ UAV)', '(PRP$ ones)']\n"
     ]
    }
   ],
   "source": [
    "prpdlr_nt = dict()\n",
    "for i, sent in enumerate(ontn_sentc_tree_prc9):\n",
    "    substr = \"(PRP$\"\n",
    "    if substr in sent['parse_tree']:\n",
    "        extractions = extract_all_spec_substring(sent['parse_tree'], substr)\n",
    "        for extraction in extractions:\n",
    "            if extraction in prpdlr_nt.keys():\n",
    "                prpdlr_nt[extraction] += 1\n",
    "            else:\n",
    "                prpdlr_nt[extraction] = 1\n",
    "prpdlr_nt = pd.Series(prpdlr_nt, name='N').to_frame()\n",
    "prpdlr_nt = prpdlr_nt.sort_values('N', ascending=False)\n",
    "display(prpdlr_nt.T)\n",
    "del_prpdlr_nt = prpdlr_nt[prpdlr_nt['N'] <= 1].index.to_list()\n",
    "print(del_prpdlr_nt)"
   ]
  },
  {
   "cell_type": "markdown",
   "id": "16d25e34",
   "metadata": {},
   "source": [
    "## Delete rare cases with PRP$"
   ]
  },
  {
   "cell_type": "code",
   "execution_count": 55,
   "id": "6b4e9dc4",
   "metadata": {},
   "outputs": [
    {
     "data": {
      "text/plain": [
       "133213"
      ]
     },
     "execution_count": 55,
     "metadata": {},
     "output_type": "execute_result"
    }
   ],
   "source": [
    "len(ontn_sentc_tree_prc9)"
   ]
  },
  {
   "cell_type": "code",
   "execution_count": 56,
   "id": "226d1a98",
   "metadata": {},
   "outputs": [],
   "source": [
    "ontn_sentc_tree_prc10 = []\n",
    "for i, sent in enumerate(ontn_sentc_tree_prc9):\n",
    "    if not has_substring(sent['parse_tree'], del_prpdlr_nt):\n",
    "        ontn_sentc_tree_prc10.append(sent)"
   ]
  },
  {
   "cell_type": "code",
   "execution_count": 57,
   "id": "8b577689",
   "metadata": {},
   "outputs": [
    {
     "data": {
      "text/plain": [
       "133206"
      ]
     },
     "execution_count": 57,
     "metadata": {},
     "output_type": "execute_result"
    }
   ],
   "source": [
    "len(ontn_sentc_tree_prc10)"
   ]
  },
  {
   "cell_type": "markdown",
   "id": "f8c073ce",
   "metadata": {},
   "source": [
    "## Replace Nonterminal in Trees"
   ]
  },
  {
   "cell_type": "code",
   "execution_count": 58,
   "id": "3e53653e",
   "metadata": {},
   "outputs": [
    {
     "name": "stdout",
     "output_type": "stream",
     "text": [
      "{'(WP$ whose)': 365, '(WP$ Whose)': 4}\n"
     ]
    }
   ],
   "source": [
    "nt = dict()\n",
    "for i, sent in enumerate(ontn_sentc_tree_prc9):\n",
    "    substr = \"(WP$\"\n",
    "    if substr in sent['parse_tree']:\n",
    "        extractions = extract_all_spec_substring(sent['parse_tree'], substr)\n",
    "        for extraction in extractions:\n",
    "            if extraction in nt.keys():\n",
    "                nt[extraction] += 1\n",
    "            else:\n",
    "                nt[extraction] = 1\n",
    "print(nt)"
   ]
  },
  {
   "cell_type": "code",
   "execution_count": 59,
   "id": "f7b6f6e3",
   "metadata": {},
   "outputs": [],
   "source": [
    "replace_dict = {\n",
    "    '(. ?)': '(QM ?)',  # question mark\n",
    "    '(. /?)': '(QM ?)',  # question mark\n",
    "    '(. .)': '(PER .)',  # period\n",
    "    '(. /.)': '(PER .)',  # period\n",
    "    '(. !)': '(EM !)',  # exclamation mark\n",
    "    '(. ...)': '(ELPSS ...)',  # ellipsis\n",
    "    '(, ,)': '(CMA ,)',  # comma\n",
    "    '(: :)': '(CLN :)',  # punctuation COLON\n",
    "    '(: ;)': '(SMCLN ;)',  # punctuation semicolon\n",
    "    '(: --)': '(DASH --)',  # punctuation dash\n",
    "    '(: -)': '(HPHN -)',  # punctuation hyphen\n",
    "    '(: ...)': '(PNCTELPSS ...)',  # punctuation ellipsis\n",
    "    '(DT a)': '(IAC a)',  # indefinite article before a consonant\n",
    "    '(DT A)': '(IAC A)',  # indefinite article before a consonant\n",
    "    '(DT an)': '(IAV an)',  # indefinite article before a vowel\n",
    "    '(DT An)': '(IAV An)',  # indefinite article before a vowel\n",
    "    '(DT the)': '(DA the)', # definite article\n",
    "    '(DT The)': '(DA The)', # definite article\n",
    "    '(`` \")': '(OQTM \\')',   # Opening quotation marks\n",
    "    '(`` ``)': '(OQTM \\')',   # Opening quotation marks\n",
    "    '(`` \\')': '(OQTM \\')',   # Opening quotation marks\n",
    "    '(`` `)': '(OQTM \\')',   # Opening quotation marks\n",
    "    '(\\'\\' \")': '(QTM \\')',  # Quotation marks\n",
    "    '(\\'\\' \\'\\')': '(QTM \\')',  # Quotation marks\n",
    "    '(\\'\\' \\')': '(QTM \\')',  # Quotation marks\n",
    "    '(\\'\\' `)': '(QTM \\')',  # Quotation marks\n",
    "    '(-LRB- -LSB-)': '(_lrb_ _lsb_)',\n",
    "    '(-RRB- -RSB-)': '(_rrb_ _rsb_)',\n",
    "    '(-LRB- -LRB-)': '(_lrb_ _lrb_)',\n",
    "    '(-RRB- -RRB-)': '(_rrb_ _rrb_)',\n",
    "    '(-LRB- -LCB-)': '(_lrb_ _lcb_)',\n",
    "    '(-RRB- -RCB-)': '(_rrb_ _rсb_)',\n",
    "    '(PRP$': '(PRP_DLR',\n",
    "    '(WP$': '(WP_DLR',\n",
    "    '($':'(DLR',\n",
    "}"
   ]
  },
  {
   "cell_type": "code",
   "execution_count": 60,
   "id": "61920e37",
   "metadata": {},
   "outputs": [
    {
     "name": "stderr",
     "output_type": "stream",
     "text": [
      "100%|██████████| 133206/133206 [00:02<00:00, 54178.85it/s]\n"
     ]
    }
   ],
   "source": [
    "ontn_sentc_tree_fin = []\n",
    "for sent in tqdm(ontn_sentc_tree_prc10):\n",
    "    new_sent = deepcopy(sent)\n",
    "    for rule in replace_dict.keys():\n",
    "        if rule in new_sent['parse_tree']:\n",
    "            new_sent['parse_tree'] = new_sent['parse_tree'].replace(rule, replace_dict[rule])\n",
    "    ontn_sentc_tree_fin.append(new_sent)"
   ]
  },
  {
   "cell_type": "markdown",
   "id": "dc652422",
   "metadata": {},
   "source": [
    "# Get all productions like a DICT"
   ]
  },
  {
   "cell_type": "code",
   "execution_count": 61,
   "id": "96ffa1a5",
   "metadata": {},
   "outputs": [],
   "source": [
    "def process_chunk(chunk: List[Dict]) -> Dict:\n",
    "    local_dict = {}\n",
    "    for elem in chunk:\n",
    "        tree = Tree.fromstring(elem['parse_tree'])\n",
    "        for prod in tree.productions():\n",
    "            lhs = prod.lhs()\n",
    "            rhs = prod.rhs()\n",
    "            if lhs in local_dict:\n",
    "                if rhs not in local_dict[lhs]:\n",
    "                    local_dict[lhs].append(rhs)\n",
    "            else:\n",
    "                local_dict[lhs] = [rhs]\n",
    "    return local_dict\n",
    "\n",
    "def merge_dicts(dict_list: List[Dict]) -> Dict:\n",
    "    merged = {}\n",
    "    for local_dict in dict_list:\n",
    "        for lhs, rhs_list in local_dict.items():\n",
    "            if lhs not in merged:\n",
    "                merged[lhs] = []\n",
    "            existing_rhs = merged[lhs]\n",
    "            for rhs in rhs_list:\n",
    "                if rhs not in existing_rhs:\n",
    "                    existing_rhs.append(rhs)\n",
    "    return merged"
   ]
  },
  {
   "cell_type": "code",
   "execution_count": 62,
   "id": "e03f3a44",
   "metadata": {},
   "outputs": [
    {
     "data": {
      "text/plain": [
       "16"
      ]
     },
     "execution_count": 62,
     "metadata": {},
     "output_type": "execute_result"
    }
   ],
   "source": [
    "num_processes = multiprocessing.cpu_count()\n",
    "num_processes"
   ]
  },
  {
   "cell_type": "code",
   "execution_count": 63,
   "id": "9a06c373",
   "metadata": {},
   "outputs": [],
   "source": [
    "total_elements = len(ontn_sentc_tree_fin)\n",
    "chunk_size = max(1, total_elements // num_processes)\n",
    "chunks = [ontn_sentc_tree_fin[i:i+chunk_size] for i in range(0, total_elements, chunk_size)]\n",
    "\n",
    "with multiprocessing.Pool(processes=num_processes) as pool:\n",
    "    chunk_dicts = pool.map(process_chunk, chunks)\n",
    "\n",
    "productions_dict = merge_dicts(chunk_dicts)"
   ]
  },
  {
   "cell_type": "code",
   "execution_count": 64,
   "id": "72e0ed99",
   "metadata": {},
   "outputs": [],
   "source": [
    "# productions_dict: Dict[str, Optional[List[str]]] = dict()\n",
    "# for elem in tqdm(ontn_sentc_tree):\n",
    "#     tree = Tree.fromstring(elem['parse_tree'])\n",
    "\n",
    "#     for prod in tree.productions():\n",
    "#         if prod.lhs() in productions_dict.keys():\n",
    "#             if prod.rhs() in productions_dict[prod.lhs()]:\n",
    "#                 pass\n",
    "#             else:\n",
    "#                 productions_dict[prod.lhs()].append(prod.rhs())\n",
    "#         else:\n",
    "#             productions_dict[prod.lhs()] = [prod.rhs()]"
   ]
  },
  {
   "cell_type": "code",
   "execution_count": 65,
   "id": "37a0ffdc",
   "metadata": {},
   "outputs": [
    {
     "data": {
      "text/plain": [
       "dict_keys([TOP, SBARQ, WHNP, WP, NN, PP, IN, NP, QM, S, PRP, ADVP, RB, VP, VB, TO, IAC, JJ, NNP, PER, SINV, VBG, ADJP, VBZ, DA, NML, NNPS, VBN, CMA, NNS, CC, CD, VBD, JJS, DT, POS, PRT, RP, SBAR, WHADVP, WRB, IAV, INTJ, UH, MD, PRP_DLR, JJR, HYPH, RBR, PDT, SQ, WDT, VBP, QP, CONJP, CLN, EX, SMCLN, UCP, RBS, _lrb_, _rrb_, FRAG, EM, PRN, DASH, X, WHPP, WP_DLR, OQTM, QTM, WHADJP, LST, LS, NAC, SYM, RRC, AFX, FW, META, DLR, ADD, ELPSS, NFP, HPHN, NX, EMBED])"
      ]
     },
     "execution_count": 65,
     "metadata": {},
     "output_type": "execute_result"
    }
   ],
   "source": [
    "productions_dict.keys()"
   ]
  },
  {
   "cell_type": "markdown",
   "id": "aa5ac31c",
   "metadata": {},
   "source": [
    "# Productions dict to grammar"
   ]
  },
  {
   "cell_type": "code",
   "execution_count": 66,
   "id": "ebcb868c",
   "metadata": {},
   "outputs": [
    {
     "name": "stderr",
     "output_type": "stream",
     "text": [
      "100%|██████████| 87/87 [00:00<00:00, 149.15it/s]\n"
     ]
    }
   ],
   "source": [
    "ALL_RHS = list(productions_dict.keys())\n",
    "lark_like_gram = \"\"\n",
    "for lhs in tqdm(ALL_RHS):\n",
    "    assert isinstance(lhs, Nonterminal)\n",
    "    left = str(lhs).lower() + ': '\n",
    "    right = \"\"\n",
    "    right_len = len(productions_dict[lhs])\n",
    "    for i, rhs_tuple in enumerate(productions_dict[lhs]):\n",
    "        assert isinstance(rhs_tuple, tuple)\n",
    "        for rhs in rhs_tuple:\n",
    "            if isinstance(rhs, Nonterminal):\n",
    "                right += str(rhs).lower() + ' '\n",
    "            else:\n",
    "                right += '\\\"' + rhs + '\\\"'\n",
    "        right = right.strip()\n",
    "        if i != right_len - 1:\n",
    "            right += '|'\n",
    "    # if '|' in right:\n",
    "    #     right = '(' + right  + ')'\n",
    "    lark_like_gram += left + right + \"\\n\""
   ]
  },
  {
   "cell_type": "code",
   "execution_count": 67,
   "id": "a364d246",
   "metadata": {},
   "outputs": [],
   "source": [
    "with open('en_ontonotesv5_extract_lark.lark', 'w') as file:\n",
    "    print(lark_like_gram, file=file)"
   ]
  },
  {
   "cell_type": "code",
   "execution_count": null,
   "id": "e814851d",
   "metadata": {},
   "outputs": [],
   "source": []
  }
 ],
 "metadata": {
  "kernelspec": {
   "display_name": ".venv",
   "language": "python",
   "name": "python3"
  },
  "language_info": {
   "codemirror_mode": {
    "name": "ipython",
    "version": 3
   },
   "file_extension": ".py",
   "mimetype": "text/x-python",
   "name": "python",
   "nbconvert_exporter": "python",
   "pygments_lexer": "ipython3",
   "version": "3.12.3"
  }
 },
 "nbformat": 4,
 "nbformat_minor": 5
}
